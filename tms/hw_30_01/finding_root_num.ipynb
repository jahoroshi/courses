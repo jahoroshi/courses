{
 "cells": [
  {
   "cell_type": "code",
   "execution_count": 57,
   "metadata": {},
   "outputs": [
    {
     "name": "stdout",
     "output_type": "stream",
     "text": [
      "Итерация 1, значение      25.75.\n",
      "Итерация 2, значение      19.314.\n",
      "Итерация 3, значение      14.4889.\n",
      "Итерация 4, значение      10.8749.\n",
      "Итерация 5, значение      8.1756.\n",
      "Итерация 6, значение      6.1775.\n",
      "Итерация 7, значение      4.7392.\n",
      "Итерация 8, значение      3.7892.\n",
      "Итерация 9, значение      3.3014.\n",
      "Итерация 10, значение      3.1708.\n",
      "Итерация 11, значение      3.1623.\n",
      "Итерация 12, значение      3.1623.\n",
      "\n",
      "Корнем степени 3 из числа 100 является 3.1622776607343805\n"
     ]
    }
   ],
   "source": [
    "x = 1\n",
    "n = 4\n",
    "a = 100\n",
    "flag = True\n",
    "count = 0\n",
    "\n",
    "while flag:\n",
    "    nrt = ((n - 1) * x + a / (x ** (n -1))) * (1 / n)\n",
    "    if round(x, 4) == round(nrt, 4):\n",
    "        flag = False\n",
    "    x = nrt\n",
    "    count += 1\n",
    "\n",
    "    print(f'Итерация {count}, значение      {round(x, 4)}.')\n",
    "\n",
    "\n",
    "print(f'\\nКорнем степени {3} из числа {a} является {x}')"
   ]
  }
 ],
 "metadata": {
  "kernelspec": {
   "display_name": "Python 3",
   "language": "python",
   "name": "python3"
  },
  "language_info": {
   "codemirror_mode": {
    "name": "ipython",
    "version": 3
   },
   "file_extension": ".py",
   "mimetype": "text/x-python",
   "name": "python",
   "nbconvert_exporter": "python",
   "pygments_lexer": "ipython3",
   "version": "3.11.6"
  }
 },
 "nbformat": 4,
 "nbformat_minor": 2
}
