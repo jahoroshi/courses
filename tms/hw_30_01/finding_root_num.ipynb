{
 "cells": [
  {
   "cell_type": "code",
   "execution_count": 150,
   "metadata": {},
   "outputs": [
    {
     "name": "stdout",
     "output_type": "stream",
     "text": [
      "\n",
      "Корнем степени 35 из числа 90 является 1.1371964631850682\n",
      "Количество итераций 7. Начальное предположение 1.25\n",
      "\n",
      "Корнем степени 35 из числа 90 является 1.1371964631359808\n",
      "Количество итераций 44. Начальное предположение 1\n"
     ]
    }
   ],
   "source": [
    "x_start_1 = 1.25\n",
    "x_start_2 = 1\n",
    "n = 35\n",
    "a = 90\n",
    "def nroot(x, n, a):\n",
    "    flag = True\n",
    "    count = 0\n",
    "    while flag:\n",
    "        nrt = ((n - 1) * x + a / (x ** (n -1))) * (1 / n)\n",
    "        if round(x, 4) == round(nrt, 4):\n",
    "            flag = False\n",
    "        x = nrt\n",
    "        count += 1\n",
    "    return x, count\n",
    "        # print(f'Итерация {count}, значение      {round(x, 4)}.')\n",
    "\n",
    "x, count = nroot(x_start_1, n, a)\n",
    "print(f'\\nКорнем степени {n} из числа {a} является {x}\\nКоличество итераций {count}. Начальное предположение {x_start_1}')\n",
    "\n",
    "x, count = nroot(x_start_2, n, a)\n",
    "print(f'\\nКорнем степени {n} из числа {a} является {x}\\nКоличество итераций {count}. Начальное предположение {x_start_2}')\n"
   ]
  },
  {
   "cell_type": "code",
   "execution_count": 152,
   "metadata": {},
   "outputs": [
    {
     "name": "stdout",
     "output_type": "stream",
     "text": [
      "1.1371964630703182\n"
     ]
    }
   ],
   "source": [
    "n = 35.\n",
    "x = 90.0 ** (1./n)\n",
    "print(x)"
   ]
  },
  {
   "cell_type": "code",
   "execution_count": null,
   "metadata": {},
   "outputs": [],
   "source": []
  }
 ],
 "metadata": {
  "kernelspec": {
   "display_name": "Python 3",
   "language": "python",
   "name": "python3"
  },
  "language_info": {
   "codemirror_mode": {
    "name": "ipython",
    "version": 3
   },
   "file_extension": ".py",
   "mimetype": "text/x-python",
   "name": "python",
   "nbconvert_exporter": "python",
   "pygments_lexer": "ipython3",
   "version": "3.11.6"
  }
 },
 "nbformat": 4,
 "nbformat_minor": 2
}
