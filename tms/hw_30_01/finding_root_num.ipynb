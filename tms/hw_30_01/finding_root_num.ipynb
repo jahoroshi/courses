{
 "cells": [
  {
   "cell_type": "code",
   "execution_count": 56,
   "metadata": {},
   "outputs": [
    {
     "name": "stdout",
     "output_type": "stream",
     "text": [
      "\n",
      "Корнем степени 2 из числа 1054 является 32.46536616149585\n",
      "Количество итераций 1. Начальное предположение 32.46536616149585\n"
     ]
    }
   ],
   "source": [
    "n = 2\n",
    "a = 1054\n",
    "x_start_1 = a**(1/n)\n",
    "\n",
    "def nroot(x, n, a):\n",
    "    flag = True\n",
    "    count = 0\n",
    "    while flag:\n",
    "        nrt = ((n - 1) * x + a / (x ** (n -1))) * (1 / n)\n",
    "        if round(x, 4) == round(nrt, 4):\n",
    "            flag = False\n",
    "        x = nrt\n",
    "        count += 1\n",
    "    return x, count\n",
    "\n",
    "x, count = nroot(x_start_1, n, a)\n",
    "print(f'\\nКорнем степени {n} из числа {a} является {x}\\nКоличество итераций {count}. Начальное предположение {x_start_1}')\n"
   ]
  }
 ],
 "metadata": {
  "kernelspec": {
   "display_name": "Python 3",
   "language": "python",
   "name": "python3"
  },
  "language_info": {
   "codemirror_mode": {
    "name": "ipython",
    "version": 3
   },
   "file_extension": ".py",
   "mimetype": "text/x-python",
   "name": "python",
   "nbconvert_exporter": "python",
   "pygments_lexer": "ipython3",
   "version": "3.11.6"
  }
 },
 "nbformat": 4,
 "nbformat_minor": 2
}
