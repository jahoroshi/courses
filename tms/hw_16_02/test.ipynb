{
 "cells": [
  {
   "cell_type": "code",
   "execution_count": null,
   "metadata": {},
   "outputs": [],
   "source": [
    "import psutil, os, time\n",
    "\n",
    "def bytes_to_gb(n):\n",
    "    res = n / (1024 ** 3)\n",
    "    return round(res, 2)\n",
    "\n",
    "def clean_screen():\n",
    "    if psutil.POSIX:\n",
    "        os.system('clear')\n",
    "    else:\n",
    "        os.system('cls')\n",
    "        \n",
    "def percent_graph_mem(percent):\n",
    "    fil_blocks = int(percent / 2)\n",
    "    emp_blocks = 50 - fil_blocks\n",
    "    if percent < 49:\n",
    "        color_scale = '\\033[32m|\\033[0m'\n",
    "    elif percent < 79:\n",
    "        color_scale = '\\033[33m|\\033[0m'\n",
    "    else:\n",
    "         color_scale = '\\033[31m|\\033[0m'\n",
    "       \n",
    "    bar = color_scale * fil_blocks + ' ' * emp_blocks\n",
    "    return bar\n",
    "\n",
    "def log_status_cpu(func):\n",
    "    def cpu_usage():\n",
    "        current_time = time.strftime('%Y-%m-%d %H:%M:%S')\n",
    "        with open(\"log_cpu_usage.txt\", \"a+\") as log:\n",
    "           log.write(f'{current_time},{\",\".join(map(str, func()))}\\n')\n",
    "                      \n",
    "    return cpu_usage\n",
    "\n",
    "@log_status_cpu\n",
    "def status_cpu():\n",
    "    templ_cpu_per = \"%-4s :%s %11s\"\n",
    "    cpu_per = psutil.cpu_percent(interval=1, percpu=True)\n",
    "    clean_screen()\n",
    "    print(\"\\033[33;40;1m%-69s\\033[0m\" % (\"CPU status\"))\n",
    "\n",
    "    for i in range(len(cpu_per)):\n",
    "        print(templ_cpu_per % (f'CPU {i}', percent_graph_mem(cpu_per[i]), cpu_per[i]))\n",
    "    return cpu_per     \n",
    "\n",
    "\n",
    "if __name__ == '__main__':\n",
    "    period = input(\"\\033[33;40;1m%-69s\\033[0m\" % (\"Укажите время сбора данных\"))\n",
    "    while True:\n",
    "        status_cpu()\n",
    "        time.sleep(1)\n"
   ]
  },
  {
   "cell_type": "code",
   "execution_count": 23,
   "metadata": {},
   "outputs": [
    {
     "name": "stdout",
     "output_type": "stream",
     "text": [
      "[18.2, 12.4, 18.0, 23.7, 12.6, 9.9, 11.7, 13.4]\n"
     ]
    }
   ],
   "source": [
    "cpu_per = psutil.cpu_percent(interval=1, percpu=True)\n",
    "current_time = time.strftime('%Y-%m-%d %H:%M:%S')\n",
    "with open(\"log_cpu_usage.txt\", \"a+\") as log:\n",
    "    log.write(f'{current_time},{\",\".join(map(str, cpu_per))}\\n')\n",
    " \n",
    "print(str(cpu_per))"
   ]
  },
  {
   "cell_type": "code",
   "execution_count": 8,
   "metadata": {},
   "outputs": [
    {
     "name": "stdout",
     "output_type": "stream",
     "text": [
      "\u001b[40;1m█\u001b[0m \u001b[45;1m█\u001b[0m \u001b[44;1m█\u001b[0m \u001b[42;1m█\u001b[0m \u001b[47;1m█\u001b[0m \u001b[49;1m█\u001b[0m \u001b[43;1m█\u001b[0m \u001b[41;1m█\u001b[0m "
     ]
    }
   ],
   "source": [
    "matrix = [[\"\\033[33;40;1m0\\033[0m\" for _ in range(40)] for _ in range(30)]\n",
    "for row in matrix:\n",
    "    print(' '.join(row))"
   ]
  },
  {
   "cell_type": "code",
   "execution_count": null,
   "metadata": {},
   "outputs": [],
   "source": [
    "def draw_matrix(rows, cols, data):\n",
    "    matrix = [['.' for _ in range(rows)] for _ in range(cols)]\n",
    "\n",
    "    for i in range(min(rows, len(data))):\n",
    "        load = int(float(data[i][1]))  # Загрузка процессора (взято из столбца 1)\n",
    "        for j in range(cols - 1, cols - 1 - load//2, -1):\n",
    "            if j >= 0:\n",
    "                matrix[j][i] = scale_color[i]\n",
    "                \n",
    " \n",
    "    for row in matrix:\n",
    "        print(' '.join(row))\n",
    "\n",
    "# Пример использования:\n",
    "rows = 40\n",
    "cols = 30\n",
    "\n",
    "scale_color = [\n",
    "    '\\033[32;1m█\\033[0m',  # Green font\n",
    "    '\\033[33;1m█\\033[0m',  # Yellow font\n",
    "    '\\033[34;1m█\\033[0m',  # Blue font\n",
    "    '\\033[35;1m█\\033[0m',  # Purple font\n",
    "    '\\033[36;1m█\\033[0m',  # Cyan font\n",
    "    '\\033[37;1m█\\033[0m',  # White font\n",
    "    '\\033[91;1m█\\033[0m',  # Light red font\n",
    "    '\\033[93;1m█\\033[0m'   # Light yellow font\n",
    "]\n",
    "data = [\n",
    "    \"2024-02-19 16:34:48,24.0,28.0,21.4,29.0,24.2,24.5,25.0,24.2\",\n",
    "    \"2024-02-19 16:34:50,18.4,19.8,34.7,26.5,15.6,17.5,57.1,29.0\",\n",
    "    \"2024-02-19 16:34:52,26.8,17.2,14.1,16.3,21.8,14.6,14.4,11.5\",\n",
    "    \"2024-02-19 16:34:54,18.8,9.3,11.0,16.0,14.9,18.4,16.0,10.9\",\n",
    "    \"2024-02-19 16:34:56,19.6,22.5,19.4,68.7,19.2,42.0,24.0,32.0\",\n",
    "]\n",
    "\n",
    "draw_matrix(rows, cols, [row.split(',') for row in data])\n"
   ]
  }
 ],
 "metadata": {
  "kernelspec": {
   "display_name": ".venv",
   "language": "python",
   "name": "python3"
  },
  "language_info": {
   "codemirror_mode": {
    "name": "ipython",
    "version": 3
   },
   "file_extension": ".py",
   "mimetype": "text/x-python",
   "name": "python",
   "nbconvert_exporter": "python",
   "pygments_lexer": "ipython3",
   "version": "3.11.6"
  }
 },
 "nbformat": 4,
 "nbformat_minor": 2
}
