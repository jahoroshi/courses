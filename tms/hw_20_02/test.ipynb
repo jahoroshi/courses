{
 "cells": [
  {
   "cell_type": "code",
   "execution_count": 143,
   "metadata": {},
   "outputs": [
    {
     "name": "stdout",
     "output_type": "stream",
     "text": [
      "kwork      chrom      chrom      kwork      chrom      chrom      kwork      kwork     \n",
      "gjs        chrom      kwork      kwork      chrom      kwork      chrom      pytho     \n",
      "kwork      bash       kwork      kwork      kwork      kwork      chrom      pytho     \n",
      "kwork      pytho      kwork      gnome      pytho      pytho      kwork      pytho     \n",
      "pytho      kwork      chrom      pytho      kwork      kwork      kwork      chrom     \n",
      "kwork      pytho      chrom      pytho      zoom       kwork      kwork      chrom     \n",
      "pytho      chrom      chrom      zoom       bash       chrom      pytho      kwork     \n",
      "code       bash       chrom      zoom       pytho      zoom       chrom      usb-s     \n",
      "pytho      kwork      pytho      code       code       zoom       scsi_      scsi_     \n",
      "kwork      cups-      gnome      code       chrom      zoom       zoom       zoom      \n",
      "zoom       cupsd      chrom      code       snap       code       dart:      zoom      \n",
      "zoom       irq/1      fwupd      code       gvfsd      code       code       zoom      \n",
      "pytho      bash       xdg-d      chrom      ssh-a      code       chrom      zoom      \n",
      "bash       code       gvfs-      chrom      chrom      evolu      chrom      uas       \n",
      "code       code       kerne      chrom      chrom      evolu      gvfsd      code      \n",
      "gvfsd      chrom      gvfs-      chrom      gsd-x      gsd-s      mutte      bash      \n",
      "gjs        gsd-w      gvfsd      ibus-      gvfsd      gsd-k      ibus-      code      \n",
      "chrom      evolu      ibus-      Xwayl      evolu      at-sp      gsd-h      chrom     \n",
      "chrom      xdg-d      gsd-p      teleg      gvfs-      xdg-d      color      gsd-s     \n",
      "cat        at-sp      gsd-m      gjs        ibus-      ssh-a      fuser      gnome     \n",
      "cat        ubunt      gjs        xdg-d      gsd-d      gnome      xdg-p      krfco     \n",
      "track      syste      dconf      kerne      gsd-s      snapd      gnome      gvfsd     \n",
      "gsd-p      gdm3       snapd      gvfs-      gsd-p      syste      gnome      pipew     \n",
      "gvfs-      ext4-      dbus-      goa-i      gsd-c      cfg80      gdm-w      (sd-p     \n",
      "ibus-      kwork      snapd      gsd-s      gcr-s      scsi_      pipew      accou     \n",
      "ibus-      charg      gdm-s      gsd-r      gnome      kwork      Modem      bluet     \n",
      "goa-d      md_bi      avahi      gsd-d      rtkit      irq/1      syste      ext4-     \n",
      "gnome      tpm_d      cron       gsd-a      pipew      irq/1      switc      kwork     \n",
      "gvfsd      kdevt      card0      wirep      wpa_s      kaudi      polki      ksmd      \n",
      "dbus-      kwork      card0      unatt      jbd2/      kwork      avahi      kwork     \n",
      "upowe      ksoft      card0      rsysl      scsi_      ksoft      scsi_      ksoft     \n",
      "Netwo      migra      irq/1      udisk      kstrp      migra      kwork      migra     \n",
      "irqba      idle_      nvme-      therm      kwork      idle_      hwrng      idle_     \n",
      "syste      cpuhp      kwork      power      irq/1      cpuhp      acpi_      cpuhp     \n"
     ]
    },
    {
     "ename": "IndexError",
     "evalue": "list index out of range",
     "output_type": "error",
     "traceback": [
      "\u001b[0;31m---------------------------------------------------------------------------\u001b[0m",
      "\u001b[0;31mIndexError\u001b[0m                                Traceback (most recent call last)",
      "Cell \u001b[0;32mIn[143], line 17\u001b[0m\n\u001b[1;32m     14\u001b[0m     \u001b[38;5;28;01mfor\u001b[39;00m j \u001b[38;5;129;01min\u001b[39;00m \u001b[38;5;28mrange\u001b[39m(\u001b[38;5;241m70\u001b[39m):\n\u001b[1;32m     15\u001b[0m         \u001b[38;5;28mprint\u001b[39m(templ_show_process \u001b[38;5;241m%\u001b[39m \u001b[38;5;28mtuple\u001b[39m(proc_dict[i][j] \u001b[38;5;28;01mfor\u001b[39;00m i \u001b[38;5;129;01min\u001b[39;00m \u001b[38;5;28mrange\u001b[39m(\u001b[38;5;241m8\u001b[39m)))\n\u001b[0;32m---> 17\u001b[0m \u001b[43mprocessor_show\u001b[49m\u001b[43m(\u001b[49m\u001b[43m)\u001b[49m\n",
      "Cell \u001b[0;32mIn[143], line 15\u001b[0m, in \u001b[0;36mprocessor_show\u001b[0;34m()\u001b[0m\n\u001b[1;32m     12\u001b[0m     proc_dict[el] \u001b[38;5;241m=\u001b[39m proc_dict[el][::\u001b[38;5;241m-\u001b[39m\u001b[38;5;241m1\u001b[39m]\n\u001b[1;32m     14\u001b[0m \u001b[38;5;28;01mfor\u001b[39;00m j \u001b[38;5;129;01min\u001b[39;00m \u001b[38;5;28mrange\u001b[39m(\u001b[38;5;241m70\u001b[39m):\n\u001b[0;32m---> 15\u001b[0m     \u001b[38;5;28mprint\u001b[39m(templ_show_process \u001b[38;5;241m%\u001b[39m \u001b[38;5;28mtuple\u001b[39m(proc_dict[i][j] \u001b[38;5;28;01mfor\u001b[39;00m i \u001b[38;5;129;01min\u001b[39;00m \u001b[38;5;28mrange\u001b[39m(\u001b[38;5;241m8\u001b[39m)))\n",
      "Cell \u001b[0;32mIn[143], line 15\u001b[0m, in \u001b[0;36m<genexpr>\u001b[0;34m(.0)\u001b[0m\n\u001b[1;32m     12\u001b[0m     proc_dict[el] \u001b[38;5;241m=\u001b[39m proc_dict[el][::\u001b[38;5;241m-\u001b[39m\u001b[38;5;241m1\u001b[39m]\n\u001b[1;32m     14\u001b[0m \u001b[38;5;28;01mfor\u001b[39;00m j \u001b[38;5;129;01min\u001b[39;00m \u001b[38;5;28mrange\u001b[39m(\u001b[38;5;241m70\u001b[39m):\n\u001b[0;32m---> 15\u001b[0m     \u001b[38;5;28mprint\u001b[39m(templ_show_process \u001b[38;5;241m%\u001b[39m \u001b[38;5;28mtuple\u001b[39m(\u001b[43mproc_dict\u001b[49m\u001b[43m[\u001b[49m\u001b[43mi\u001b[49m\u001b[43m]\u001b[49m\u001b[43m[\u001b[49m\u001b[43mj\u001b[49m\u001b[43m]\u001b[49m \u001b[38;5;28;01mfor\u001b[39;00m i \u001b[38;5;129;01min\u001b[39;00m \u001b[38;5;28mrange\u001b[39m(\u001b[38;5;241m8\u001b[39m)))\n",
      "\u001b[0;31mIndexError\u001b[0m: list index out of range"
     ]
    }
   ],
   "source": [
    "import psutil\n",
    "def processor_show():\n",
    "    proc = psutil.process_iter()\n",
    "    proc_dict = {key: [] for key in range(psutil.cpu_count())}\n",
    "    templ_show_process = '%-10s %-10s %-10s %-10s %-10s %-10s %-10s %-10s'\n",
    "\n",
    "\n",
    "    for process in proc:\n",
    "        proc_dict[process.cpu_num()].append(process.name()[0:5])\n",
    "    \n",
    "    for el in proc_dict:\n",
    "        proc_dict[el] = proc_dict[el][::-1]\n",
    "\n",
    "    for j in range(10):\n",
    "        print(templ_show_process % tuple(proc_dict[i][j] for i in range(8)))\n",
    "        \n",
    "processor_show()\n"
   ]
  },
  {
   "cell_type": "code",
   "execution_count": 149,
   "metadata": {},
   "outputs": [
    {
     "name": "stdout",
     "output_type": "stream",
     "text": [
      "Ключ: a, Значение:  1\n",
      "Ключ: b, Значение:  2\n",
      "Ключ: c, Значение:  3\n"
     ]
    }
   ],
   "source": [
    "# my_module.py\n",
    "\n",
    "\"\"\"Этот модуль предоставляет функциональность для работы с данными.\"\"\"\n",
    "\n",
    "def process_data(data):\n",
    "    \"\"\"Обрабатывает данные и возвращает результат.\"\"\"\n",
    "    # Ваш код обработки данных\n",
    "    return result\n",
    "\n",
    "if __name__ == \"__main__\":\n",
    "    # Пример кода, выполняемого при запуске модуля\n",
    "    data_to_process = [1, 2, 3, 4]\n",
    "    result = process_data(data_to_process)\n",
    "    print(result)\n"
   ]
  }
 ],
 "metadata": {
  "kernelspec": {
   "display_name": ".venv",
   "language": "python",
   "name": "python3"
  },
  "language_info": {
   "codemirror_mode": {
    "name": "ipython",
    "version": 3
   },
   "file_extension": ".py",
   "mimetype": "text/x-python",
   "name": "python",
   "nbconvert_exporter": "python",
   "pygments_lexer": "ipython3",
   "version": "3.11.6"
  }
 },
 "nbformat": 4,
 "nbformat_minor": 2
}
