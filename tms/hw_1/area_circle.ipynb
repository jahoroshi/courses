{
 "cells": [
  {
   "cell_type": "code",
   "execution_count": null,
   "metadata": {},
   "outputs": [],
   "source": [
    "#Скажите, пожалуйста, какой вариант написания кода предпочтительнее?\n",
    "#Скажите, пожалуйста, какой вариант написания кода предпочтительнее?\n",
    "#Скажите, пожалуйста, какой вариант написания кода предпочтительнее?"
   ]
  },
  {
   "cell_type": "code",
   "execution_count": 6,
   "metadata": {},
   "outputs": [
    {
     "name": "stdout",
     "output_type": "stream",
     "text": [
      "Площадь круга равна  16.49\n"
     ]
    }
   ],
   "source": [
    "from math import pi, tan, radians\n",
    "\n",
    "a, b, c, A = 4, 3, 6, 85\n",
    "\n",
    "print(\"Площадь круга равна \", round(pi * (((a + b + c) / 2 - a) * tan(radians(A / 2))) ** 2, 2))"
   ]
  },
  {
   "cell_type": "code",
   "execution_count": 7,
   "metadata": {},
   "outputs": [
    {
     "name": "stdout",
     "output_type": "stream",
     "text": [
      "Площадь круга равна  16.49\n"
     ]
    }
   ],
   "source": [
    "import math\n",
    "\n",
    "a = 4\n",
    "b = 3\n",
    "c = 6\n",
    "A = 85\n",
    "\n",
    "p = (a + b + c) / 2\n",
    "tg = math.tan(math.radians(A / 2))\n",
    "s = math.pi * ((p - a) * tg) ** 2\n",
    "s = round(s, 2)\n",
    "\n",
    "\n",
    "print(\"Площадь круга равна \", s)"
   ]
  }
 ],
 "metadata": {
  "kernelspec": {
   "display_name": "Python 3",
   "language": "python",
   "name": "python3"
  },
  "language_info": {
   "codemirror_mode": {
    "name": "ipython",
    "version": 3
   },
   "file_extension": ".py",
   "mimetype": "text/x-python",
   "name": "python",
   "nbconvert_exporter": "python",
   "pygments_lexer": "ipython3",
   "version": "3.11.6"
  }
 },
 "nbformat": 4,
 "nbformat_minor": 2
}
