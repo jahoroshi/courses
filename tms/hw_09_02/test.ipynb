{
 "cells": [
  {
   "cell_type": "code",
   "execution_count": 77,
   "metadata": {},
   "outputs": [
    {
     "name": "stdout",
     "output_type": "stream",
     "text": [
      "Device               Total     Used     Free   Use %                Type\n",
      "/dev/nvme0n1p5       43.99    21.35    20.38   \u001b[32m|\u001b[0m\u001b[32m|\u001b[0m\u001b[32m|\u001b[0m\u001b[32m|\u001b[0m\u001b[32m|\u001b[0m      51.2%%    ext4\n",
      "/dev/nvme0n1p7        40.0    35.06     2.87   \u001b[31m|\u001b[0m\u001b[31m|\u001b[0m\u001b[31m|\u001b[0m\u001b[31m|\u001b[0m\u001b[31m|\u001b[0m\u001b[31m|\u001b[0m\u001b[31m|\u001b[0m\u001b[31m|\u001b[0m\u001b[31m|\u001b[0m  92.4%%    ext4\n",
      "/dev/nvme0n1p2        0.09     0.06     0.03   \u001b[32m|\u001b[0m\u001b[32m|\u001b[0m\u001b[32m|\u001b[0m\u001b[32m|\u001b[0m\u001b[32m|\u001b[0m\u001b[32m|\u001b[0m     66.1%%    vfat\n",
      "/dev/nvme0n1p5       43.99    21.35    20.38   \u001b[32m|\u001b[0m\u001b[32m|\u001b[0m\u001b[32m|\u001b[0m\u001b[32m|\u001b[0m\u001b[32m|\u001b[0m      51.2%%    ext4\n"
     ]
    },
    {
     "ename": "SystemExit",
     "evalue": "",
     "output_type": "error",
     "traceback": [
      "An exception has occurred, use %tb to see the full traceback.\n",
      "\u001b[0;31mSystemExit\u001b[0m\n"
     ]
    }
   ],
   "source": [
    "import sys\n",
    "import psutil\n",
    "# from psutil._common import bytes2human\n",
    "\n",
    "def bytes_to_gb(n):\n",
    "    res = n / (1024 ** 3)\n",
    "    return round(res, 2)\n",
    "\n",
    "def percent_graph(percent):\n",
    "    fil_blocks = int(percent / 10)\n",
    "    emp_blocks = 10 - fil_blocks\n",
    "    if percent < 85:\n",
    "        сolor_scale = '\\033[32m|\\033[0m'\n",
    "    else:\n",
    "        сolor_scale = '\\033[31m|\\033[0m'\n",
    "\n",
    "    bar = сolor_scale * fil_blocks + ' ' * emp_blocks\n",
    "\n",
    "    return f'  {bar} {percent}%'\n",
    "\n",
    "def main():\n",
    "    templ = \"%-17s %8s %8s %8s %6s%% %7s\"\n",
    "\n",
    "\n",
    "    print(templ % (\"Device\", \"Total\", \"Used\", \"Free\", \"Use \", \"               Type\"))\n",
    "    \n",
    "    \n",
    "    for part in psutil.disk_partitions(all=False):\n",
    "        if part.fstype in (\"ext4\", \"vfat\"):\n",
    "            usage = psutil.disk_usage(part.mountpoint)\n",
    "            # print(usage)\n",
    "            print(templ % (\n",
    "                part.device,\n",
    "                bytes_to_gb(usage.total),\n",
    "                bytes_to_gb(usage.used),\n",
    "                bytes_to_gb(usage.free),\n",
    "                percent_graph(usage.percent),\n",
    "                part.fstype,\n",
    "                ))\n",
    "\n",
    "if __name__ == '__main__':\n",
    "    sys.exit(main())"
   ]
  },
  {
   "cell_type": "code",
   "execution_count": 38,
   "metadata": {},
   "outputs": [
    {
     "name": "stdout",
     "output_type": "stream",
     "text": [
      "\u001b[31m█\u001b[0m\u001b[31m█\u001b[0m\u001b[31m█\u001b[0m\u001b[31m█\u001b[0m\u001b[31m█\u001b[0m\u001b[31m█\u001b[0m\u001b[31m█\u001b[0m\u001b[31m█\u001b[0m   89%\n"
     ]
    }
   ],
   "source": [
    "def percentage_graph(percent):\n",
    "    fil_blocks = int(percent / 10)\n",
    "    emp_blocks = 10 - fil_blocks\n",
    "    if percent < 85:\n",
    "        сolor_scale = '\\033[32m█\\033[0m'\n",
    "    else:\n",
    "        сolor_scale = '\\033[31m█\\033[0m'\n",
    "\n",
    "    bar = сolor_scale * fil_blocks + ' ' * emp_blocks\n",
    "\n",
    "    return f'{bar} {percent}%'\n",
    "\n",
    "# Пример использования с процентом 75%\n"
   ]
  },
  {
   "cell_type": "code",
   "execution_count": 31,
   "metadata": {},
   "outputs": [
    {
     "name": "stdout",
     "output_type": "stream",
     "text": [
      "\u001b[32m█\u001b[0m\n"
     ]
    }
   ],
   "source": [
    "print(\"\\033[32m█\\033[0m\")\n"
   ]
  }
 ],
 "metadata": {
  "kernelspec": {
   "display_name": ".venv",
   "language": "python",
   "name": "python3"
  },
  "language_info": {
   "codemirror_mode": {
    "name": "ipython",
    "version": 3
   },
   "file_extension": ".py",
   "mimetype": "text/x-python",
   "name": "python",
   "nbconvert_exporter": "python",
   "pygments_lexer": "ipython3",
   "version": "3.11.6"
  }
 },
 "nbformat": 4,
 "nbformat_minor": 2
}
