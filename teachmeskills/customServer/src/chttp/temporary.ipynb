{
 "cells": [
  {
   "cell_type": "code",
   "id": "initial_id",
   "metadata": {
    "ExecuteTime": {
     "end_time": "2024-06-25T09:11:21.507663Z",
     "start_time": "2024-06-25T09:11:21.500211Z"
    }
   },
   "source": [
    "import re\n",
    "\n",
    "def extract_full_match(template_content):\n",
    "    pattern = r'{%\\s*extend\\s+([^\\s%]+)\\s*%}'\n",
    "    match = re.search(pattern, template_content)\n",
    "    if match:\n",
    "        full_match = match.group(0)\n",
    "        print(match.group(0))\n",
    "        return full_match\n",
    "    return None\n",
    "\n",
    "# Пример использования функции\n",
    "template_content = \"{% extend base.html %}\\n\\nHello my World\"\n",
    "full_match = extract_full_match(template_content)\n",
    "print(f\"Full match: {full_match}\")\n"
   ],
   "outputs": [
    {
     "name": "stdout",
     "output_type": "stream",
     "text": [
      "{% extend base.html %}\n",
      "Full match: {% extend base.html %}\n"
     ]
    }
   ],
   "execution_count": 6
  },
  {
   "cell_type": "code",
   "id": "ee304026de84cba9",
   "metadata": {
    "jupyter": {
     "is_executing": true
    }
   },
   "source": [],
   "outputs": [],
   "execution_count": null
  },
  {
   "metadata": {},
   "cell_type": "code",
   "outputs": [],
   "execution_count": null,
   "source": "",
   "id": "64bd9d148a54d99d"
  }
 ],
 "metadata": {
  "kernelspec": {
   "display_name": "Python 3 (ipykernel)",
   "language": "python",
   "name": "python3"
  },
  "language_info": {
   "codemirror_mode": {
    "name": "ipython",
    "version": 3
   },
   "file_extension": ".py",
   "mimetype": "text/x-python",
   "name": "python",
   "nbconvert_exporter": "python",
   "pygments_lexer": "ipython3",
   "version": "3.12.0"
  }
 },
 "nbformat": 4,
 "nbformat_minor": 5
}
