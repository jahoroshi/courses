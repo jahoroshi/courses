{
 "cells": [
  {
   "cell_type": "code",
   "execution_count": 56,
   "metadata": {},
   "outputs": [
    {
     "name": "stdout",
     "output_type": "stream",
     "text": [
      "\n",
      "Корнем степени 2 из числа 1054 является 32.46536616149585\n",
      "Количество итераций 1. Начальное предположение 32.46536616149585\n"
     ]
    }
   ],
   "source": [
    "n = 2\n",
    "a = 1054\n",
    "x_start_1 = a**(1/n)\n",
    "\n",
    "def nroot(x, n, a):\n",
    "    flag = True\n",
    "    count = 0\n",
    "    while flag:\n",
    "        nrt = ((n - 1) * x + a / (x ** (n -1))) * (1 / n)\n",
    "        if round(x, 4) == round(nrt, 4):\n",
    "            flag = False\n",
    "        x = nrt\n",
    "        count += 1\n",
    "    return x, count\n",
    "\n",
    "x, count = nroot(x_start_1, n, a)\n",
    "print(f'\\nКорнем степени {n} из числа {a} является {x}\\nКоличество итераций {count}. Начальное предположение {x_start_1}')\n"
   ]
  },
  {
   "cell_type": "code",
   "execution_count": 86,
   "metadata": {},
   "outputs": [
    {
     "name": "stdout",
     "output_type": "stream",
     "text": [
      "\n",
      "Корнем степени 207 из числа 283 является 1.0276479942265973\n",
      "Количество итераций 63. Начальное предположение 1.3671497584541064\n"
     ]
    },
    {
     "ename": "OverflowError",
     "evalue": "(34, 'Numerical result out of range')",
     "output_type": "error",
     "traceback": [
      "\u001b[0;31m---------------------------------------------------------------------------\u001b[0m",
      "\u001b[0;31mOverflowError\u001b[0m                             Traceback (most recent call last)",
      "Cell \u001b[0;32mIn[86], line 31\u001b[0m\n\u001b[1;32m     29\u001b[0m x, count, x_start \u001b[38;5;241m=\u001b[39m nroot(n, a, x_start_1)\n\u001b[1;32m     30\u001b[0m \u001b[38;5;28mprint\u001b[39m(\u001b[38;5;124mf\u001b[39m\u001b[38;5;124m'\u001b[39m\u001b[38;5;130;01m\\n\u001b[39;00m\u001b[38;5;124mКорнем степени \u001b[39m\u001b[38;5;132;01m{\u001b[39;00mn\u001b[38;5;132;01m}\u001b[39;00m\u001b[38;5;124m из числа \u001b[39m\u001b[38;5;132;01m{\u001b[39;00ma\u001b[38;5;132;01m}\u001b[39;00m\u001b[38;5;124m является \u001b[39m\u001b[38;5;132;01m{\u001b[39;00mx\u001b[38;5;132;01m}\u001b[39;00m\u001b[38;5;130;01m\\n\u001b[39;00m\u001b[38;5;124mКоличество итераций \u001b[39m\u001b[38;5;132;01m{\u001b[39;00mcount\u001b[38;5;132;01m}\u001b[39;00m\u001b[38;5;124m. Начальное предположение \u001b[39m\u001b[38;5;132;01m{\u001b[39;00mx_start\u001b[38;5;132;01m}\u001b[39;00m\u001b[38;5;124m'\u001b[39m)\n\u001b[0;32m---> 31\u001b[0m x, count, x_start \u001b[38;5;241m=\u001b[39m \u001b[43mnroot\u001b[49m\u001b[43m(\u001b[49m\u001b[43mn\u001b[49m\u001b[43m,\u001b[49m\u001b[43m \u001b[49m\u001b[43ma\u001b[49m\u001b[43m,\u001b[49m\u001b[43m \u001b[49m\u001b[43mx_start_2\u001b[49m\u001b[43m)\u001b[49m\n\u001b[1;32m     32\u001b[0m \u001b[38;5;28mprint\u001b[39m(\u001b[38;5;124mf\u001b[39m\u001b[38;5;124m'\u001b[39m\u001b[38;5;130;01m\\n\u001b[39;00m\u001b[38;5;124m!!!!Корнем степени \u001b[39m\u001b[38;5;132;01m{\u001b[39;00mn\u001b[38;5;132;01m}\u001b[39;00m\u001b[38;5;124m из числа \u001b[39m\u001b[38;5;132;01m{\u001b[39;00ma\u001b[38;5;132;01m}\u001b[39;00m\u001b[38;5;124m является \u001b[39m\u001b[38;5;132;01m{\u001b[39;00mx\u001b[38;5;132;01m}\u001b[39;00m\u001b[38;5;130;01m\\n\u001b[39;00m\u001b[38;5;124mКоличество итераций \u001b[39m\u001b[38;5;132;01m{\u001b[39;00mcount\u001b[38;5;132;01m}\u001b[39;00m\u001b[38;5;124m. Начальное предположение \u001b[39m\u001b[38;5;132;01m{\u001b[39;00mx_start\u001b[38;5;132;01m}\u001b[39;00m\u001b[38;5;124m'\u001b[39m, end\u001b[38;5;241m=\u001b[39m\u001b[38;5;124m\"\u001b[39m\u001b[38;5;130;01m\\n\u001b[39;00m\u001b[38;5;124m ----\u001b[39m\u001b[38;5;124m\"\u001b[39m)\n",
      "Cell \u001b[0;32mIn[86], line 12\u001b[0m, in \u001b[0;36mnroot\u001b[0;34m(n, a, x_start)\u001b[0m\n\u001b[1;32m     10\u001b[0m x \u001b[38;5;241m=\u001b[39m x_start  \u001b[38;5;66;03m# Инициализация x перед входом в цикл\u001b[39;00m\n\u001b[1;32m     11\u001b[0m \u001b[38;5;28;01mwhile\u001b[39;00m flag:\n\u001b[0;32m---> 12\u001b[0m     nrt \u001b[38;5;241m=\u001b[39m ((n \u001b[38;5;241m-\u001b[39m \u001b[38;5;241m1\u001b[39m) \u001b[38;5;241m*\u001b[39m x \u001b[38;5;241m+\u001b[39m a \u001b[38;5;241m/\u001b[39m (\u001b[43mx\u001b[49m\u001b[43m \u001b[49m\u001b[38;5;241;43m*\u001b[39;49m\u001b[38;5;241;43m*\u001b[39;49m\u001b[43m \u001b[49m\u001b[43m(\u001b[49m\u001b[43mn\u001b[49m\u001b[43m \u001b[49m\u001b[38;5;241;43m-\u001b[39;49m\u001b[38;5;241;43m1\u001b[39;49m\u001b[43m)\u001b[49m)) \u001b[38;5;241m*\u001b[39m (\u001b[38;5;241m1\u001b[39m \u001b[38;5;241m/\u001b[39m n)\n\u001b[1;32m     13\u001b[0m     \u001b[38;5;28;01mif\u001b[39;00m \u001b[38;5;28mround\u001b[39m(x, \u001b[38;5;241m4\u001b[39m) \u001b[38;5;241m==\u001b[39m \u001b[38;5;28mround\u001b[39m(nrt, \u001b[38;5;241m4\u001b[39m):\n\u001b[1;32m     14\u001b[0m         flag \u001b[38;5;241m=\u001b[39m \u001b[38;5;28;01mFalse\u001b[39;00m\n",
      "\u001b[0;31mOverflowError\u001b[0m: (34, 'Numerical result out of range')"
     ]
    }
   ],
   "source": [
    "import random\n",
    "\n",
    "n = 2\n",
    "a = 11\n",
    "\n",
    "\n",
    "def nroot(n, a, x_start):\n",
    "    flag = True\n",
    "    count = 0\n",
    "    x = x_start  # Инициализация x перед входом в цикл\n",
    "    while flag:\n",
    "        nrt = ((n - 1) * x + a / (x ** (n -1))) * (1 / n)\n",
    "        if round(x, 4) == round(nrt, 4):\n",
    "            flag = False\n",
    "        x = nrt\n",
    "        count += 1\n",
    "    return x, count, x_start\n",
    "\n",
    "\n",
    "for _ in range(2):\n",
    "    n = random.randrange(3, 300, 3)\n",
    "    a = random.randrange(3, 300, 7)\n",
    "    x_start_1 = a / n\n",
    "    x_start_2 = ((n - 1) * n + a / (n ** (n -1))) * (1 / n)\n",
    "\n",
    "    # n = 20\n",
    "    # a = 50\n",
    "    if a > n:\n",
    "        x, count, x_start = nroot(n, a, x_start_1)\n",
    "        print(f'\\nКорнем степени {n} из числа {a} является {x}\\nКоличество итераций {count}. Начальное предположение {x_start}')\n",
    "        x, count, x_start = nroot(n, a, x_start_2)\n",
    "        print(f'\\n!!!!Корнем степени {n} из числа {a} является {x}\\nКоличество итераций {count}. Начальное предположение {x_start}', end=\"\\n ----\")"
   ]
  }
 ],
 "metadata": {
  "kernelspec": {
   "display_name": "Python 3",
   "language": "python",
   "name": "python3"
  },
  "language_info": {
   "codemirror_mode": {
    "name": "ipython",
    "version": 3
   },
   "file_extension": ".py",
   "mimetype": "text/x-python",
   "name": "python",
   "nbconvert_exporter": "python",
   "pygments_lexer": "ipython3",
   "version": "3.11.6"
  }
 },
 "nbformat": 4,
 "nbformat_minor": 2
}
