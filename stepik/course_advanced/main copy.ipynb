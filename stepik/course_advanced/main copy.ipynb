{
 "cells": [
  {
   "cell_type": "markdown",
   "metadata": {},
   "source": []
  },
  {
   "cell_type": "code",
   "execution_count": 125,
   "metadata": {},
   "outputs": [
    {
     "name": "stdout",
     "output_type": "stream",
     "text": [
      "Kurt\n",
      "Ангелина\n",
      "Валентин\n",
      "Виолетта\n",
      "Данил\n",
      "Евгений\n",
      "Иван\n",
      "Иринка\n",
      "Ольга\n",
      "Паша\n"
     ]
    }
   ],
   "source": [
    "data = {\n",
    "    \"my_friends\": {\n",
    "        \"count\": 10,\n",
    "        \"people\": [{\n",
    "            \"first_name\": \"Kurt\",\n",
    "            \"id\": 621547005,\n",
    "            \"last_name\": \"Cobain\",\n",
    "            \"bdate\": \"31.8.2005\"\n",
    "        }, {\n",
    "            \"first_name\": \"Виолетта\",\n",
    "            \"id\": 484200150,\n",
    "            \"last_name\": \"Кастилио\",\n",
    "        }, {\n",
    "            \"first_name\": \"Иринка\",\n",
    "            \"id\": 21886133,\n",
    "            \"last_name\": \"Бушуева\",\n",
    "            \"bdate\": \"28.8.1942\"\n",
    "        }, {\n",
    "            \"first_name\": \"Данил\",\n",
    "            \"id\": 282456573,\n",
    "            \"last_name\": \"Греков\",\n",
    "            \"bdate\": \"4.7.2002\"\n",
    "        }, {\n",
    "            \"first_name\": \"Валентин\",\n",
    "            \"id\": 184902932,\n",
    "            \"last_name\": \"Долматов\",\n",
    "            \"bdate\": \"25.5\"\n",
    "        }, {\n",
    "            \"first_name\": \"Евгений\",\n",
    "            \"id\": 620469646,\n",
    "            \"last_name\": \"Шапорин\",\n",
    "            \"bdate\": \"6.12.1982\"\n",
    "        }, {\n",
    "            \"first_name\": \"Ангелина\",\n",
    "            \"id\": 622328862,\n",
    "            \"last_name\": \"Краснова\",\n",
    "            \"bdate\": \"4.11.1995\"\n",
    "        }, {\n",
    "            \"first_name\": \"Иван\",\n",
    "            \"id\": 576015198,\n",
    "            \"last_name\": \"Вирин\",\n",
    "            \"bdate\": \"2.2.1915\"\n",
    "        }, {\n",
    "            \"first_name\": \"Паша\",\n",
    "            \"id\": 386922406,\n",
    "            \"last_name\": \"Воронов\",\n",
    "            \"bdate\": \"27.9\"\n",
    "        }, {\n",
    "            \"first_name\": \"Ольга\",\n",
    "            \"id\": 622170942,\n",
    "            \"last_name\": \"Савченкова\",\n",
    "            \"bdate\": \"20.12\"\n",
    "        }]\n",
    "    }\n",
    "}\n",
    "res = []\n",
    "\n",
    "for el in data[\"my_friends\"][\"people\"]:\n",
    "    res.append(el[\"first_name\"])\n",
    "\n",
    "res.sort()        \n",
    "print(*res, sep=\"\\n\")"
   ]
  },
  {
   "cell_type": "code",
   "execution_count": null,
   "metadata": {},
   "outputs": [],
   "source": []
  }
 ],
 "metadata": {
  "kernelspec": {
   "display_name": ".venv",
   "language": "python",
   "name": "python3"
  },
  "language_info": {
   "codemirror_mode": {
    "name": "ipython",
    "version": 3
   },
   "file_extension": ".py",
   "mimetype": "text/x-python",
   "name": "python",
   "nbconvert_exporter": "python",
   "pygments_lexer": "ipython3",
   "version": "3.11.6"
  }
 },
 "nbformat": 4,
 "nbformat_minor": 2
}
